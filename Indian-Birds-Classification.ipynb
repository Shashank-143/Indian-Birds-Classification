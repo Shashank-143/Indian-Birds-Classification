{
 "cells": [
  {
   "cell_type": "code",
   "execution_count": 8,
   "metadata": {},
   "outputs": [
    {
     "name": "stdout",
     "output_type": "stream",
     "text": [
      "Train folder exists: True\n",
      "Test folder exists: True\n",
      "Contents of the train folder:\n",
      "['Asian-Green-Bee-Eater', 'Brown-Headed-Barbet', 'Cattle-Egret', 'Common-Kingfisher', 'Common-Myna', 'Common-Rosefinch', 'Common-Tailorbird', 'Coppersmith-Barbet', 'Forest-Wagtail', 'Gray-Wagtail', 'Hoopoe', 'House-Crow', 'Indian-Grey-Hornbill', 'Indian-Peacock', 'Indian-Pitta', 'Indian-Roller', 'Jungle-Babbler', 'Northern-Lapwing', 'Red-Wattled-Lapwing', 'Ruddy-Shelduck', 'Rufous-Treepie', 'Sarus-Crane', 'White-Breasted-Kingfisher', 'White-Breasted-Waterhen', 'White-Wagtail']\n",
      "Contents of the test folder:\n",
      "['Asian-Green-Bee-Eater', 'Brown-Headed-Barbet', 'Cattle-Egret', 'Common-Kingfisher', 'Common-Myna', 'Common-Rosefinch', 'Common-Tailorbird', 'Coppersmith-Barbet', 'Forest-Wagtail', 'Gray-Wagtail', 'Hoopoe', 'House-Crow', 'Indian-Grey-Hornbill', 'Indian-Peacock', 'Indian-Pitta', 'Indian-Roller', 'Jungle-Babbler', 'Northern-Lapwing', 'Red-Wattled-Lapwing', 'Ruddy-Shelduck', 'Rufous-Treepie', 'Sarus-Crane', 'White-Breasted-Kingfisher', 'White-Breasted-Waterhen', 'White-Wagtail']\n"
     ]
    }
   ],
   "source": [
    "import os\n",
    "\n",
    "# Paths to train and test folders\n",
    "train_folder_path = r\"C:\\Users\\Shash\\OneDrive\\Documents\\GitHub\\Indian-Birds-Classification\\Birds_25\\train\"\n",
    "test_folder_path = r\"C:\\Users\\Shash\\OneDrive\\Documents\\GitHub\\Indian-Birds-Classification\\Birds_25\\valid\"\n",
    "\n",
    "# Check if paths exist\n",
    "print(f\"Train folder exists: {os.path.exists(train_folder_path)}\")\n",
    "print(f\"Test folder exists: {os.path.exists(test_folder_path)}\")\n",
    "\n",
    "# List contents of the train folder\n",
    "if os.path.exists(train_folder_path):\n",
    "    print(\"Contents of the train folder:\")\n",
    "    print(os.listdir(train_folder_path))\n",
    "\n",
    "# List contents of the test folder\n",
    "if os.path.exists(test_folder_path):\n",
    "    print(\"Contents of the test folder:\")\n",
    "    print(os.listdir(test_folder_path))"
   ]
  },
  {
   "cell_type": "markdown",
   "metadata": {},
   "source": [
    "## **Importing the libraries**"
   ]
  },
  {
   "cell_type": "code",
   "execution_count": 2,
   "metadata": {},
   "outputs": [],
   "source": [
    "import cv2                                            # Library for image processing- OpenCV\n",
    "import os                                             # Library for operating system\n",
    "from sklearn.model_selection import train_test_split  # Library for ML - Scikit-Learn\n",
    "import numpy as np                                    "
   ]
  },
  {
   "cell_type": "markdown",
   "metadata": {},
   "source": [
    "## **Loading the dataset**"
   ]
  },
  {
   "cell_type": "code",
   "execution_count": 3,
   "metadata": {},
   "outputs": [],
   "source": [
    "# Paths to train and test folders\n",
    "train_folder_path = r\"C:\\Users\\Shash\\OneDrive\\Documents\\GitHub\\Indian-Birds-Classification\\Birds_25\\train\"\n",
    "test_folder_path = r\"C:\\Users\\Shash\\OneDrive\\Documents\\GitHub\\Indian-Birds-Classification\\Birds_25\\valid\""
   ]
  },
  {
   "cell_type": "code",
   "execution_count": 4,
   "metadata": {},
   "outputs": [],
   "source": [
    "# Initialize lists to store image paths and labels for both training and testing\n",
    "train_image_paths = []\n",
    "train_labels = []\n",
    "test_image_paths = []\n",
    "test_labels = []\n",
    "\n",
    "# Dictionary to map class names (bird names) to numerical labels\n",
    "label_dict = {}\n",
    "\n",
    "# Function to load images from a given folder (Train or Test) and assign labels based on folder names\n",
    "def load_images_from_folder(folder_path, image_paths_list, labels_list, label_dict):\n",
    "    for bird_name in os.listdir(folder_path):\n",
    "        bird_folder = os.path.join(folder_path, bird_name)\n",
    "        if os.path.isdir(bird_folder):\n",
    "            # If this bird_name is not in the label_dict, assign a new label to it\n",
    "            if bird_name not in label_dict:\n",
    "                label_dict[bird_name] = len(label_dict)\n",
    "            \n",
    "            # Add image paths and corresponding labels to the list\n",
    "            for filename in os.listdir(bird_folder):\n",
    "                if filename.endswith('.jpg') or filename.endswith('.png'):\n",
    "                    image_paths_list.append(os.path.join(bird_folder, filename))\n",
    "                    labels_list.append(label_dict[bird_name])\n"
   ]
  },
  {
   "cell_type": "code",
   "execution_count": 5,
   "metadata": {},
   "outputs": [],
   "source": [
    "# Load training data\n",
    "load_images_from_folder(train_folder_path, train_image_paths, train_labels, label_dict)\n",
    "\n",
    "# Load testing data\n",
    "load_images_from_folder(test_folder_path, test_image_paths, test_labels, label_dict)\n",
    "\n",
    "# Convert lists to NumPy arrays\n",
    "train_image_paths = np.array(train_image_paths)\n",
    "train_labels = np.array(train_labels)\n",
    "test_image_paths = np.array(test_image_paths)\n",
    "test_labels = np.array(test_labels)"
   ]
  },
  {
   "cell_type": "code",
   "execution_count": 6,
   "metadata": {},
   "outputs": [],
   "source": [
    "# Convert lists to NumPy arrays\n",
    "train_image_paths = np.array(train_image_paths)\n",
    "train_labels = np.array(train_labels)\n",
    "test_image_paths = np.array(test_image_paths)\n",
    "test_labels = np.array(test_labels)\n",
    "\n",
    "# Function to preprocess images (resize and normalize)\n",
    "def preprocess_image(image_path):\n",
    "    image = cv2.imread(image_path)\n",
    "    if image is not None:\n",
    "        image = cv2.resize(image, (64, 64))  # Resize to 64x64 pixels\n",
    "        image = image / 255.0  # Normalize pixel values (0-1 range) which is better of ML Models\n",
    "        return image\n",
    "    else:\n",
    "        return np.zeros((64, 64, 3))  # Return a black image if loading fails\n",
    "\n",
    "# Preprocess training and testing images\n",
    "train_images = np.array([preprocess_image(path) for path in train_image_paths])\n",
    "test_images = np.array([preprocess_image(path) for path in test_image_paths])\n"
   ]
  },
  {
   "cell_type": "code",
   "execution_count": 9,
   "metadata": {},
   "outputs": [
    {
     "name": "stdout",
     "output_type": "stream",
     "text": [
      "Train images shape: (30000, 64, 64, 3)\n",
      "Train labels shape: 30000\n",
      "Test images shape: (7500, 64, 64, 3)\n",
      "Test labels shape: 7500\n"
     ]
    }
   ],
   "source": [
    "# Check the shapes of preprocessed images\n",
    "print(f\"Train images shape: {train_images.shape}\")\n",
    "print(f\"Train labels shape: {train_labels.shape[0]}\")\n",
    "print(f\"Test images shape: {test_images.shape}\")\n",
    "print(f\"Test labels shape: {test_labels.shape[0]}\")"
   ]
  }
 ],
 "metadata": {
  "kernelspec": {
   "display_name": "Python 3",
   "language": "python",
   "name": "python3"
  },
  "language_info": {
   "codemirror_mode": {
    "name": "ipython",
    "version": 3
   },
   "file_extension": ".py",
   "mimetype": "text/x-python",
   "name": "python",
   "nbconvert_exporter": "python",
   "pygments_lexer": "ipython3",
   "version": "3.12.3"
  }
 },
 "nbformat": 4,
 "nbformat_minor": 2
}
